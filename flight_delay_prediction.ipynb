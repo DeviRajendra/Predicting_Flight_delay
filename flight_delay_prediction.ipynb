{
 "cells": [
  {
   "cell_type": "code",
   "execution_count": 301,
   "metadata": {},
   "outputs": [],
   "source": [
    "import pandas as pd\n",
    "import numpy as np\n",
    "\n",
    "from sklearn.metrics import confusion_matrix,roc_curve,auc,accuracy_score,classification_report\n",
    "from sklearn.model_selection import train_test_split\n",
    "from sklearn.model_selection import GridSearchCV\n",
    "\n",
    "import matplotlib.pyplot as plt\n",
    "\n",
    "import warnings\n",
    "warnings.filterwarnings('ignore')"
   ]
  },
  {
   "cell_type": "code",
   "execution_count": 319,
   "metadata": {},
   "outputs": [],
   "source": [
    "#reading the data\n",
    "flights_data1 = pd.read_csv(\"train1.csv\")\n",
    "flights_data2 = pd.read_csv(\"train2.csv\")\n",
    "flights_data3 = pd.read_csv(\"train3.csv\")\n",
    "flights_data4 = pd.read_csv(\"train4.csv\")\n",
    "flights_data5 = pd.read_csv(\"train5.csv\")\n",
    "\n",
    "test_data = pd.read_csv(\"test-1583918175355.csv\")\n"
   ]
  },
  {
   "cell_type": "code",
   "execution_count": 320,
   "metadata": {},
   "outputs": [],
   "source": [
    "for i in [flights_data2,flights_data3,flights_data4,flights_data5]:\n",
    "    i.drop(columns='Unnamed: 0',axis=1,inplace=True)"
   ]
  },
  {
   "cell_type": "code",
   "execution_count": 321,
   "metadata": {},
   "outputs": [
    {
     "data": {
      "text/html": [
       "<div>\n",
       "<style scoped>\n",
       "    .dataframe tbody tr th:only-of-type {\n",
       "        vertical-align: middle;\n",
       "    }\n",
       "\n",
       "    .dataframe tbody tr th {\n",
       "        vertical-align: top;\n",
       "    }\n",
       "\n",
       "    .dataframe thead th {\n",
       "        text-align: right;\n",
       "    }\n",
       "</style>\n",
       "<table border=\"1\" class=\"dataframe\">\n",
       "  <thead>\n",
       "    <tr style=\"text-align: right;\">\n",
       "      <th></th>\n",
       "      <th>FL_DATE</th>\n",
       "      <th>OP_UNIQUE_CARRIER</th>\n",
       "      <th>OP_CARRIER</th>\n",
       "      <th>TAIL_NUM</th>\n",
       "      <th>OP_CARRIER_FL_NUM</th>\n",
       "      <th>ORIGIN_AIRPORT_ID</th>\n",
       "      <th>ORIGIN</th>\n",
       "      <th>DEST_AIRPORT_ID</th>\n",
       "      <th>DEST</th>\n",
       "      <th>CRS_DEP_TIME</th>\n",
       "      <th>DEP_TIME</th>\n",
       "      <th>TAXI_OUT</th>\n",
       "      <th>WHEELS_OFF</th>\n",
       "      <th>WHEELS_ON</th>\n",
       "      <th>TAXI_IN</th>\n",
       "      <th>CRS_ARR_TIME</th>\n",
       "      <th>ARR_TIME</th>\n",
       "      <th>ARR_DELAY_GROUP</th>\n",
       "      <th>CANCELLED</th>\n",
       "      <th>DISTANCE</th>\n",
       "    </tr>\n",
       "  </thead>\n",
       "  <tbody>\n",
       "    <tr>\n",
       "      <th>172189</th>\n",
       "      <td>2019-11-03</td>\n",
       "      <td>AS</td>\n",
       "      <td>AS</td>\n",
       "      <td>N293AK</td>\n",
       "      <td>468</td>\n",
       "      <td>12892</td>\n",
       "      <td>LAX</td>\n",
       "      <td>12478</td>\n",
       "      <td>JFK</td>\n",
       "      <td>1515</td>\n",
       "      <td>1508.0</td>\n",
       "      <td>24.0</td>\n",
       "      <td>1532.0</td>\n",
       "      <td>2320.0</td>\n",
       "      <td>17.0</td>\n",
       "      <td>2345</td>\n",
       "      <td>2337.0</td>\n",
       "      <td>early_arrival</td>\n",
       "      <td>0.0</td>\n",
       "      <td>2475.0</td>\n",
       "    </tr>\n",
       "    <tr>\n",
       "      <th>172190</th>\n",
       "      <td>2019-11-19</td>\n",
       "      <td>9E</td>\n",
       "      <td>9E</td>\n",
       "      <td>N305PQ</td>\n",
       "      <td>5298</td>\n",
       "      <td>11433</td>\n",
       "      <td>DTW</td>\n",
       "      <td>11995</td>\n",
       "      <td>GSO</td>\n",
       "      <td>1515</td>\n",
       "      <td>1510.0</td>\n",
       "      <td>14.0</td>\n",
       "      <td>1524.0</td>\n",
       "      <td>1637.0</td>\n",
       "      <td>6.0</td>\n",
       "      <td>1700</td>\n",
       "      <td>1643.0</td>\n",
       "      <td>early_arrival</td>\n",
       "      <td>0.0</td>\n",
       "      <td>460.0</td>\n",
       "    </tr>\n",
       "    <tr>\n",
       "      <th>172191</th>\n",
       "      <td>2019-11-25</td>\n",
       "      <td>DL</td>\n",
       "      <td>DL</td>\n",
       "      <td>N590NW</td>\n",
       "      <td>1887</td>\n",
       "      <td>14747</td>\n",
       "      <td>SEA</td>\n",
       "      <td>12173</td>\n",
       "      <td>HNL</td>\n",
       "      <td>1205</td>\n",
       "      <td>1201.0</td>\n",
       "      <td>32.0</td>\n",
       "      <td>1233.0</td>\n",
       "      <td>1547.0</td>\n",
       "      <td>4.0</td>\n",
       "      <td>1629</td>\n",
       "      <td>1551.0</td>\n",
       "      <td>early_arrival</td>\n",
       "      <td>0.0</td>\n",
       "      <td>2677.0</td>\n",
       "    </tr>\n",
       "    <tr>\n",
       "      <th>172192</th>\n",
       "      <td>2019-11-25</td>\n",
       "      <td>AX</td>\n",
       "      <td>AX</td>\n",
       "      <td>N41104</td>\n",
       "      <td>4603</td>\n",
       "      <td>13930</td>\n",
       "      <td>ORD</td>\n",
       "      <td>13367</td>\n",
       "      <td>MLI</td>\n",
       "      <td>1930</td>\n",
       "      <td>1923.0</td>\n",
       "      <td>26.0</td>\n",
       "      <td>1949.0</td>\n",
       "      <td>2018.0</td>\n",
       "      <td>2.0</td>\n",
       "      <td>2042</td>\n",
       "      <td>2020.0</td>\n",
       "      <td>early_arrival</td>\n",
       "      <td>0.0</td>\n",
       "      <td>139.0</td>\n",
       "    </tr>\n",
       "    <tr>\n",
       "      <th>172193</th>\n",
       "      <td>2019-11-21</td>\n",
       "      <td>MQ</td>\n",
       "      <td>MQ</td>\n",
       "      <td>N264NN</td>\n",
       "      <td>4202</td>\n",
       "      <td>11298</td>\n",
       "      <td>DFW</td>\n",
       "      <td>11986</td>\n",
       "      <td>GRR</td>\n",
       "      <td>1545</td>\n",
       "      <td>1543.0</td>\n",
       "      <td>13.0</td>\n",
       "      <td>1556.0</td>\n",
       "      <td>1852.0</td>\n",
       "      <td>31.0</td>\n",
       "      <td>1908</td>\n",
       "      <td>1923.0</td>\n",
       "      <td>ontime</td>\n",
       "      <td>0.0</td>\n",
       "      <td>931.0</td>\n",
       "    </tr>\n",
       "  </tbody>\n",
       "</table>\n",
       "</div>"
      ],
      "text/plain": [
       "           FL_DATE OP_UNIQUE_CARRIER OP_CARRIER TAIL_NUM  OP_CARRIER_FL_NUM  \\\n",
       "172189  2019-11-03                AS         AS   N293AK                468   \n",
       "172190  2019-11-19                9E         9E   N305PQ               5298   \n",
       "172191  2019-11-25                DL         DL   N590NW               1887   \n",
       "172192  2019-11-25                AX         AX   N41104               4603   \n",
       "172193  2019-11-21                MQ         MQ   N264NN               4202   \n",
       "\n",
       "        ORIGIN_AIRPORT_ID ORIGIN  DEST_AIRPORT_ID DEST  CRS_DEP_TIME  \\\n",
       "172189              12892    LAX            12478  JFK          1515   \n",
       "172190              11433    DTW            11995  GSO          1515   \n",
       "172191              14747    SEA            12173  HNL          1205   \n",
       "172192              13930    ORD            13367  MLI          1930   \n",
       "172193              11298    DFW            11986  GRR          1545   \n",
       "\n",
       "        DEP_TIME  TAXI_OUT  WHEELS_OFF  WHEELS_ON  TAXI_IN  CRS_ARR_TIME  \\\n",
       "172189    1508.0      24.0      1532.0     2320.0     17.0          2345   \n",
       "172190    1510.0      14.0      1524.0     1637.0      6.0          1700   \n",
       "172191    1201.0      32.0      1233.0     1547.0      4.0          1629   \n",
       "172192    1923.0      26.0      1949.0     2018.0      2.0          2042   \n",
       "172193    1543.0      13.0      1556.0     1852.0     31.0          1908   \n",
       "\n",
       "        ARR_TIME ARR_DELAY_GROUP  CANCELLED  DISTANCE  \n",
       "172189    2337.0   early_arrival        0.0    2475.0  \n",
       "172190    1643.0   early_arrival        0.0     460.0  \n",
       "172191    1551.0   early_arrival        0.0    2677.0  \n",
       "172192    2020.0   early_arrival        0.0     139.0  \n",
       "172193    1923.0          ontime        0.0     931.0  "
      ]
     },
     "execution_count": 321,
     "metadata": {},
     "output_type": "execute_result"
    }
   ],
   "source": [
    "list1 = [flights_data1,flights_data2,flights_data3,flights_data4,flights_data5]\n",
    "flight_data = pd.concat(list1,ignore_index=True)\n",
    "flight_data.head()\n",
    "flight_data.tail()"
   ]
  },
  {
   "cell_type": "code",
   "execution_count": null,
   "metadata": {},
   "outputs": [
    {
     "ename": "KeyboardInterrupt",
     "evalue": "",
     "output_type": "error",
     "traceback": [
      "\u001b[1;31m---------------------------------------------------------------------------\u001b[0m",
      "\u001b[1;31mKeyboardInterrupt\u001b[0m                         Traceback (most recent call last)",
      "\u001b[1;32m~\\Anaconda3\\lib\\site-packages\\zmq\\backend\\cython\\checkrc.pxd\u001b[0m in \u001b[0;36mzmq.backend.cython.checkrc._check_rc\u001b[1;34m()\u001b[0m\n",
      "\u001b[1;31mKeyboardInterrupt\u001b[0m: "
     ]
    },
    {
     "name": "stderr",
     "output_type": "stream",
     "text": [
      "Exception ignored in: 'zmq.backend.cython.message.Frame.__dealloc__'\n",
      "Traceback (most recent call last):\n",
      "  File \"zmq/backend/cython/checkrc.pxd\", line 12, in zmq.backend.cython.checkrc._check_rc\n",
      "    PyErr_CheckSignals()\n",
      "KeyboardInterrupt\n"
     ]
    }
   ],
   "source": [
    "import matplotlib.pyplot as plt\n",
    "import seaborn as sns\n",
    "plt.figure(figsize=(9, 8))\n",
    "sns.heatmap(data = flight_data,cmap='BrBG', annot=True, linewidths=0.2)"
   ]
  },
  {
   "cell_type": "code",
   "execution_count": 322,
   "metadata": {},
   "outputs": [],
   "source": [
    "import datetime\n",
    "flight_data[\"FL_DATE\"]=pd.to_datetime(flight_data[\"FL_DATE\"])\n",
    "#flight_data[\"Year\"]=pd.DatetimeIndex(flight_data[\"FL_DATE\"]).year\n",
    "#flight_data[\"Month\"]=pd.DatetimeIndex(flight_data[\"FL_DATE\"]).month"
   ]
  },
  {
   "cell_type": "code",
   "execution_count": null,
   "metadata": {},
   "outputs": [],
   "source": [
    "flight_data.dtypes"
   ]
  },
  {
   "cell_type": "code",
   "execution_count": 313,
   "metadata": {},
   "outputs": [],
   "source": [
    "flight_data.dropna(axis=0,inplace=True)"
   ]
  },
  {
   "cell_type": "code",
   "execution_count": null,
   "metadata": {},
   "outputs": [],
   "source": [
    "\n",
    "flight_data.ARR_DELAY_GROUP"
   ]
  },
  {
   "cell_type": "code",
   "execution_count": 139,
   "metadata": {},
   "outputs": [
    {
     "data": {
      "text/plain": [
       "Index(['FL_DATE', 'OP_UNIQUE_CARRIER', 'OP_CARRIER', 'TAIL_NUM',\n",
       "       'OP_CARRIER_FL_NUM', 'ORIGIN_AIRPORT_ID', 'ORIGIN', 'DEST_AIRPORT_ID',\n",
       "       'DEST', 'CRS_DEP_TIME', 'DEP_TIME', 'TAXI_OUT', 'WHEELS_OFF',\n",
       "       'WHEELS_ON', 'TAXI_IN', 'CRS_ARR_TIME', 'ARR_TIME', 'ARR_DELAY_GROUP',\n",
       "       'CANCELLED', 'DISTANCE', 'Year', 'Month'],\n",
       "      dtype='object')"
      ]
     },
     "execution_count": 139,
     "metadata": {},
     "output_type": "execute_result"
    }
   ],
   "source": [
    "flight_data.columns"
   ]
  },
  {
   "cell_type": "code",
   "execution_count": null,
   "metadata": {},
   "outputs": [],
   "source": [
    "test-1583918175355.csv"
   ]
  },
  {
   "cell_type": "code",
   "execution_count": null,
   "metadata": {},
   "outputs": [],
   "source": []
  },
  {
   "cell_type": "markdown",
   "metadata": {},
   "source": [
    "### As the features \"OP_UNIQUE_CARRIER\" and \"OP_CARRIER\" are same removing \"OP_UNIQUE_CARRIER\""
   ]
  },
  {
   "cell_type": "code",
   "execution_count": 323,
   "metadata": {},
   "outputs": [],
   "source": [
    "flight_data.drop(columns=\"OP_UNIQUE_CARRIER\",inplace=True,axis=1)"
   ]
  },
  {
   "cell_type": "code",
   "execution_count": 84,
   "metadata": {},
   "outputs": [
    {
     "data": {
      "text/plain": [
       "Index(['FL_DATE', 'OP_CARRIER', 'TAIL_NUM', 'OP_CARRIER_FL_NUM',\n",
       "       'ORIGIN_AIRPORT_ID', 'ORIGIN', 'DEST_AIRPORT_ID', 'DEST',\n",
       "       'CRS_DEP_TIME', 'DEP_TIME', 'TAXI_OUT', 'WHEELS_OFF', 'WHEELS_ON',\n",
       "       'TAXI_IN', 'CRS_ARR_TIME', 'ARR_TIME', 'ARR_DELAY_GROUP', 'CANCELLED',\n",
       "       'DISTANCE'],\n",
       "      dtype='object')"
      ]
     },
     "execution_count": 84,
     "metadata": {},
     "output_type": "execute_result"
    }
   ],
   "source": [
    "flight_data.columns"
   ]
  },
  {
   "cell_type": "code",
   "execution_count": 196,
   "metadata": {},
   "outputs": [
    {
     "data": {
      "text/plain": [
       "-1.0    111777\n",
       " 0.0     38131\n",
       " 1.0     19410\n",
       "Name: ARR_DELAY_GROUP, dtype: int64"
      ]
     },
     "execution_count": 196,
     "metadata": {},
     "output_type": "execute_result"
    }
   ],
   "source": [
    "flight_data.ARR_DELAY_GROUP.value_counts()"
   ]
  },
  {
   "cell_type": "code",
   "execution_count": 324,
   "metadata": {},
   "outputs": [],
   "source": [
    "flight_data.ARR_DELAY_GROUP.replace({\"early_arrival\":-1,\"ontime\":0,\"delayed\":1},inplace=True)   "
   ]
  },
  {
   "cell_type": "code",
   "execution_count": 180,
   "metadata": {},
   "outputs": [
    {
     "data": {
      "text/plain": [
       "['FL_DATE',\n",
       " 'OP_UNIQUE_CARRIER',\n",
       " 'OP_CARRIER',\n",
       " 'TAIL_NUM',\n",
       " 'OP_CARRIER_FL_NUM',\n",
       " 'ORIGIN_AIRPORT_ID',\n",
       " 'ORIGIN',\n",
       " 'DEST_AIRPORT_ID',\n",
       " 'DEST',\n",
       " 'CRS_DEP_TIME',\n",
       " 'DEP_TIME',\n",
       " 'TAXI_OUT',\n",
       " 'WHEELS_OFF',\n",
       " 'WHEELS_ON',\n",
       " 'TAXI_IN',\n",
       " 'CRS_ARR_TIME',\n",
       " 'ARR_TIME',\n",
       " 'ARR_DELAY_GROUP',\n",
       " 'CANCELLED',\n",
       " 'DISTANCE',\n",
       " 'Year',\n",
       " 'Month']"
      ]
     },
     "execution_count": 180,
     "metadata": {},
     "output_type": "execute_result"
    }
   ],
   "source": [
    "list(flight_data.columns)"
   ]
  },
  {
   "cell_type": "code",
   "execution_count": 325,
   "metadata": {},
   "outputs": [],
   "source": [
    "cols_to_keep = ['FL_DATE','OP_UNIQUE_CARRIER','OP_CARRIER','TAIL_NUM','OP_CARRIER_FL_NUM','ORIGIN_AIRPORT_ID','ORIGIN',\"DEST_AIRPORT_ID\",\"DEST\",'CRS_DEP_TIME','CRS_ARR_TIME','DISTANCE','ARR_DELAY_GROUP']\n",
    "cols_to_remove = list(set(flight_data.columns)-set(cols_to_keep))\n",
    "flight_data.drop(columns=cols_to_remove,axis=1,inplace=True)\n"
   ]
  },
  {
   "cell_type": "code",
   "execution_count": 326,
   "metadata": {},
   "outputs": [
    {
     "data": {
      "text/plain": [
       "Index(['FL_DATE', 'OP_CARRIER', 'TAIL_NUM', 'OP_CARRIER_FL_NUM',\n",
       "       'ORIGIN_AIRPORT_ID', 'ORIGIN', 'DEST_AIRPORT_ID', 'DEST',\n",
       "       'CRS_DEP_TIME', 'CRS_ARR_TIME', 'ARR_DELAY_GROUP', 'DISTANCE'],\n",
       "      dtype='object')"
      ]
     },
     "execution_count": 326,
     "metadata": {},
     "output_type": "execute_result"
    }
   ],
   "source": [
    "\n",
    "flight_data.columns"
   ]
  },
  {
   "cell_type": "code",
   "execution_count": 327,
   "metadata": {},
   "outputs": [
    {
     "data": {
      "text/plain": [
       "FL_DATE              datetime64[ns]\n",
       "OP_CARRIER                   object\n",
       "TAIL_NUM                     object\n",
       "OP_CARRIER_FL_NUM             int64\n",
       "ORIGIN_AIRPORT_ID             int64\n",
       "ORIGIN                       object\n",
       "DEST_AIRPORT_ID               int64\n",
       "DEST                         object\n",
       "CRS_DEP_TIME                  int64\n",
       "CRS_ARR_TIME                  int64\n",
       "DISTANCE                    float64\n",
       "ARR_DELAY_GROUP             float64\n",
       "dtype: object"
      ]
     },
     "execution_count": 327,
     "metadata": {},
     "output_type": "execute_result"
    }
   ],
   "source": [
    "flight_data=flight_data[['FL_DATE','OP_CARRIER','TAIL_NUM','OP_CARRIER_FL_NUM','ORIGIN_AIRPORT_ID','ORIGIN',\"DEST_AIRPORT_ID\",\"DEST\",'CRS_DEP_TIME','CRS_ARR_TIME','DISTANCE','ARR_DELAY_GROUP']]\n",
    "flight_data.shape[1]\n",
    "\n",
    "flight_data.dtypes\n"
   ]
  },
  {
   "cell_type": "code",
   "execution_count": 202,
   "metadata": {},
   "outputs": [],
   "source": [
    "flight_data[\"FL_DATE\"]=pd.to_datetime(flight_data[\"FL_DATE\"])"
   ]
  },
  {
   "cell_type": "code",
   "execution_count": 205,
   "metadata": {},
   "outputs": [
    {
     "data": {
      "text/plain": [
       "FL_DATE              datetime64[ns]\n",
       "OP_UNIQUE_CARRIER            object\n",
       "OP_CARRIER                   object\n",
       "TAIL_NUM                     object\n",
       "OP_CARRIER_FL_NUM             int64\n",
       "ORIGIN_AIRPORT_ID             int64\n",
       "ORIGIN                       object\n",
       "DEST_AIRPORT_ID               int64\n",
       "DEST                         object\n",
       "CRS_DEP_TIME                  int64\n",
       "CRS_ARR_TIME                  int64\n",
       "DISTANCE                    float64\n",
       "ARR_DELAY_GROUP             float64\n",
       "dtype: object"
      ]
     },
     "execution_count": 205,
     "metadata": {},
     "output_type": "execute_result"
    }
   ],
   "source": [
    "flight_data.dtypes"
   ]
  },
  {
   "cell_type": "markdown",
   "metadata": {},
   "source": [
    "# Remove the following columns\n",
    "\n",
    " ### 1. OP_UNIQUE_CARRIER: \n",
    "                 As there is another column named 'OP_CARRIER' which contains the same names.\n",
    "### 2. ORIGIN_AIRPORT_ID & DEST_AIRPORT_ID : \n",
    "                 As the columns 'ORIGIN' & 'DEST' has airport name which has unique id, so any one of the column is enough for our prediction\n",
    " "
   ]
  },
  {
   "cell_type": "code",
   "execution_count": 330,
   "metadata": {},
   "outputs": [],
   "source": [
    "flight_data.drop(columns=[\"ORIGIN_AIRPORT_ID\",\"DEST_AIRPORT_ID\"],axis=1,inplace=True)"
   ]
  },
  {
   "cell_type": "code",
   "execution_count": 331,
   "metadata": {},
   "outputs": [
    {
     "data": {
      "text/plain": [
       "Index(['FL_DATE', 'OP_CARRIER', 'TAIL_NUM', 'OP_CARRIER_FL_NUM', 'ORIGIN',\n",
       "       'DEST', 'CRS_DEP_TIME', 'CRS_ARR_TIME', 'DISTANCE', 'ARR_DELAY_GROUP'],\n",
       "      dtype='object')"
      ]
     },
     "execution_count": 331,
     "metadata": {},
     "output_type": "execute_result"
    }
   ],
   "source": [
    "flight_data.columns"
   ]
  },
  {
   "cell_type": "code",
   "execution_count": 332,
   "metadata": {},
   "outputs": [
    {
     "data": {
      "text/plain": [
       "-1.0    111777\n",
       " 0.0     38131\n",
       " 1.0     19410\n",
       "Name: ARR_DELAY_GROUP, dtype: int64"
      ]
     },
     "execution_count": 332,
     "metadata": {},
     "output_type": "execute_result"
    }
   ],
   "source": [
    "flight_data.ARR_DELAY_GROUP.value_counts()"
   ]
  },
  {
   "cell_type": "markdown",
   "metadata": {},
   "source": [
    "# Type casting"
   ]
  },
  {
   "cell_type": "code",
   "execution_count": 333,
   "metadata": {},
   "outputs": [
    {
     "data": {
      "text/plain": [
       "FL_DATE              datetime64[ns]\n",
       "OP_CARRIER                   object\n",
       "TAIL_NUM                     object\n",
       "OP_CARRIER_FL_NUM             int64\n",
       "ORIGIN                       object\n",
       "DEST                         object\n",
       "CRS_DEP_TIME                  int64\n",
       "CRS_ARR_TIME                  int64\n",
       "DISTANCE                    float64\n",
       "ARR_DELAY_GROUP             float64\n",
       "dtype: object"
      ]
     },
     "execution_count": 333,
     "metadata": {},
     "output_type": "execute_result"
    }
   ],
   "source": [
    "flight_data.dtypes"
   ]
  },
  {
   "cell_type": "code",
   "execution_count": 334,
   "metadata": {},
   "outputs": [],
   "source": [
    "cols_to_cast=[\"OP_CARRIER_FL_NUM\",\"OP_CARRIER\",\"TAIL_NUM\",\"ORIGIN\",\"DEST\",\"ARR_DELAY_GROUP\"]\n",
    "\n",
    "for i in range(0,len(flight_data.columns)):\n",
    "    j=flight_data.columns[i]\n",
    "    if(j in cols_to_cast):\n",
    "        flight_data[j]=flight_data[j].astype('category')"
   ]
  },
  {
   "cell_type": "code",
   "execution_count": 335,
   "metadata": {},
   "outputs": [],
   "source": [
    "flight_data[\"DISTANCE\"]=flight_data[\"DISTANCE\"].astype('int')"
   ]
  },
  {
   "cell_type": "code",
   "execution_count": 336,
   "metadata": {},
   "outputs": [],
   "source": [
    "flight_data[\"CRS_DEP_TIME\"]=flight_data[\"CRS_DEP_TIME\"].astype(\"datetime64[ns]\")\n",
    "flight_data[\"CRS_ARR_TIME\"]=flight_data[\"CRS_ARR_TIME\"].astype(\"datetime64[ns]\")\n"
   ]
  },
  {
   "cell_type": "markdown",
   "metadata": {},
   "source": [
    "### Handling missing values"
   ]
  },
  {
   "cell_type": "code",
   "execution_count": 337,
   "metadata": {},
   "outputs": [
    {
     "data": {
      "text/plain": [
       "(172194, 10)"
      ]
     },
     "execution_count": 337,
     "metadata": {},
     "output_type": "execute_result"
    }
   ],
   "source": [
    "flight_data.shape"
   ]
  },
  {
   "cell_type": "code",
   "execution_count": 339,
   "metadata": {},
   "outputs": [
    {
     "data": {
      "text/plain": [
       "FL_DATE                 0\n",
       "OP_CARRIER              0\n",
       "TAIL_NUM              427\n",
       "OP_CARRIER_FL_NUM       0\n",
       "ORIGIN                  0\n",
       "DEST                    0\n",
       "CRS_DEP_TIME            0\n",
       "CRS_ARR_TIME            0\n",
       "DISTANCE                0\n",
       "ARR_DELAY_GROUP      2876\n",
       "dtype: int64"
      ]
     },
     "execution_count": 339,
     "metadata": {},
     "output_type": "execute_result"
    }
   ],
   "source": [
    "flight_data.isnull().sum()"
   ]
  },
  {
   "cell_type": "code",
   "execution_count": 263,
   "metadata": {},
   "outputs": [
    {
     "data": {
      "text/plain": [
       "0         False\n",
       "1         False\n",
       "2         False\n",
       "3         False\n",
       "4         False\n",
       "          ...  \n",
       "172189    False\n",
       "172190    False\n",
       "172191    False\n",
       "172192    False\n",
       "172193    False\n",
       "Name: TAIL_NUM, Length: 172194, dtype: bool"
      ]
     },
     "execution_count": 263,
     "metadata": {},
     "output_type": "execute_result"
    }
   ],
   "source": [
    "flight_data[\"TAIL_NUM\"].isna()"
   ]
  },
  {
   "cell_type": "code",
   "execution_count": 341,
   "metadata": {},
   "outputs": [
    {
     "data": {
      "text/plain": [
       "427"
      ]
     },
     "execution_count": 341,
     "metadata": {},
     "output_type": "execute_result"
    }
   ],
   "source": [
    "flight_data[\"TAIL_NUM\"].isnull().sum()"
   ]
  },
  {
   "cell_type": "code",
   "execution_count": 342,
   "metadata": {},
   "outputs": [
    {
     "data": {
      "text/plain": [
       "2876"
      ]
     },
     "execution_count": 342,
     "metadata": {},
     "output_type": "execute_result"
    }
   ],
   "source": [
    "flight_data[\"ARR_DELAY_GROUP\"].isnull().sum()"
   ]
  },
  {
   "cell_type": "code",
   "execution_count": 343,
   "metadata": {},
   "outputs": [],
   "source": [
    "flight_data.dropna(subset=[\"TAIL_NUM\"],axis=0,inplace=True)"
   ]
  },
  {
   "cell_type": "code",
   "execution_count": 344,
   "metadata": {},
   "outputs": [
    {
     "data": {
      "text/plain": [
       "2449"
      ]
     },
     "execution_count": 344,
     "metadata": {},
     "output_type": "execute_result"
    }
   ],
   "source": [
    "flight_data[\"ARR_DELAY_GROUP\"].isnull().sum()"
   ]
  },
  {
   "cell_type": "code",
   "execution_count": 345,
   "metadata": {},
   "outputs": [
    {
     "data": {
      "text/plain": [
       "FL_DATE              0\n",
       "OP_CARRIER           0\n",
       "TAIL_NUM             0\n",
       "OP_CARRIER_FL_NUM    0\n",
       "ORIGIN               0\n",
       "DEST                 0\n",
       "CRS_DEP_TIME         0\n",
       "CRS_ARR_TIME         0\n",
       "DISTANCE             0\n",
       "ARR_DELAY_GROUP      0\n",
       "dtype: int64"
      ]
     },
     "execution_count": 345,
     "metadata": {},
     "output_type": "execute_result"
    }
   ],
   "source": [
    "flight_data.dropna(subset=[\"ARR_DELAY_GROUP\"],axis=0,inplace=True)\n",
    "flight_data.isna().sum()"
   ]
  },
  {
   "cell_type": "code",
   "execution_count": 346,
   "metadata": {},
   "outputs": [
    {
     "data": {
      "text/plain": [
       "FL_DATE              datetime64[ns]\n",
       "OP_CARRIER                 category\n",
       "TAIL_NUM                   category\n",
       "OP_CARRIER_FL_NUM          category\n",
       "ORIGIN                     category\n",
       "DEST                       category\n",
       "CRS_DEP_TIME         datetime64[ns]\n",
       "CRS_ARR_TIME         datetime64[ns]\n",
       "DISTANCE                      int32\n",
       "ARR_DELAY_GROUP            category\n",
       "dtype: object"
      ]
     },
     "execution_count": 346,
     "metadata": {},
     "output_type": "execute_result"
    }
   ],
   "source": [
    "flight_data.dtypes"
   ]
  },
  {
   "cell_type": "markdown",
   "metadata": {},
   "source": [
    "# Train-Test split"
   ]
  },
  {
   "cell_type": "code",
   "execution_count": 347,
   "metadata": {},
   "outputs": [
    {
     "data": {
      "text/plain": [
       "26"
      ]
     },
     "execution_count": 347,
     "metadata": {},
     "output_type": "execute_result"
    }
   ],
   "source": [
    "flight_data.OP_CARRIER.nunique()"
   ]
  },
  {
   "cell_type": "code",
   "execution_count": 348,
   "metadata": {},
   "outputs": [
    {
     "data": {
      "text/plain": [
       "372"
      ]
     },
     "execution_count": 348,
     "metadata": {},
     "output_type": "execute_result"
    }
   ],
   "source": [
    "flight_data.ORIGIN.nunique()"
   ]
  },
  {
   "cell_type": "code",
   "execution_count": 349,
   "metadata": {},
   "outputs": [
    {
     "data": {
      "text/plain": [
       "370"
      ]
     },
     "execution_count": 349,
     "metadata": {},
     "output_type": "execute_result"
    }
   ],
   "source": [
    "flight_data.DEST.nunique()"
   ]
  },
  {
   "cell_type": "code",
   "execution_count": 350,
   "metadata": {},
   "outputs": [
    {
     "data": {
      "text/plain": [
       "5896"
      ]
     },
     "execution_count": 350,
     "metadata": {},
     "output_type": "execute_result"
    }
   ],
   "source": [
    "flight_data.TAIL_NUM.nunique()"
   ]
  },
  {
   "cell_type": "code",
   "execution_count": 352,
   "metadata": {},
   "outputs": [
    {
     "data": {
      "text/html": [
       "<div>\n",
       "<style scoped>\n",
       "    .dataframe tbody tr th:only-of-type {\n",
       "        vertical-align: middle;\n",
       "    }\n",
       "\n",
       "    .dataframe tbody tr th {\n",
       "        vertical-align: top;\n",
       "    }\n",
       "\n",
       "    .dataframe thead th {\n",
       "        text-align: right;\n",
       "    }\n",
       "</style>\n",
       "<table border=\"1\" class=\"dataframe\">\n",
       "  <thead>\n",
       "    <tr style=\"text-align: right;\">\n",
       "      <th></th>\n",
       "      <th>FL_DATE</th>\n",
       "      <th>OP_CARRIER</th>\n",
       "      <th>TAIL_NUM</th>\n",
       "      <th>OP_CARRIER_FL_NUM</th>\n",
       "      <th>ORIGIN</th>\n",
       "      <th>DEST</th>\n",
       "      <th>CRS_DEP_TIME</th>\n",
       "      <th>CRS_ARR_TIME</th>\n",
       "      <th>DISTANCE</th>\n",
       "      <th>ARR_DELAY_GROUP</th>\n",
       "    </tr>\n",
       "  </thead>\n",
       "  <tbody>\n",
       "    <tr>\n",
       "      <th>0</th>\n",
       "      <td>2019-07-09</td>\n",
       "      <td>ZW</td>\n",
       "      <td>N454AW</td>\n",
       "      <td>3791</td>\n",
       "      <td>AZO</td>\n",
       "      <td>ORD</td>\n",
       "      <td>1970-01-01 00:00:00.000001426</td>\n",
       "      <td>1970-01-01 00:00:00.000001432</td>\n",
       "      <td>122</td>\n",
       "      <td>-1.0</td>\n",
       "    </tr>\n",
       "    <tr>\n",
       "      <th>1</th>\n",
       "      <td>2019-07-11</td>\n",
       "      <td>C5</td>\n",
       "      <td>N12195</td>\n",
       "      <td>4895</td>\n",
       "      <td>EWR</td>\n",
       "      <td>ROC</td>\n",
       "      <td>1970-01-01 00:00:00.000001255</td>\n",
       "      <td>1970-01-01 00:00:00.000001414</td>\n",
       "      <td>246</td>\n",
       "      <td>0.0</td>\n",
       "    </tr>\n",
       "    <tr>\n",
       "      <th>2</th>\n",
       "      <td>2019-07-23</td>\n",
       "      <td>DL</td>\n",
       "      <td>N841DN</td>\n",
       "      <td>1926</td>\n",
       "      <td>ATL</td>\n",
       "      <td>MCI</td>\n",
       "      <td>1970-01-01 00:00:00.000002148</td>\n",
       "      <td>1970-01-01 00:00:00.000002256</td>\n",
       "      <td>692</td>\n",
       "      <td>0.0</td>\n",
       "    </tr>\n",
       "    <tr>\n",
       "      <th>3</th>\n",
       "      <td>2019-07-08</td>\n",
       "      <td>B6</td>\n",
       "      <td>N981JT</td>\n",
       "      <td>1078</td>\n",
       "      <td>LAS</td>\n",
       "      <td>BOS</td>\n",
       "      <td>1970-01-01 00:00:00.000000700</td>\n",
       "      <td>1970-01-01 00:00:00.000001511</td>\n",
       "      <td>2381</td>\n",
       "      <td>-1.0</td>\n",
       "    </tr>\n",
       "    <tr>\n",
       "      <th>4</th>\n",
       "      <td>2019-07-28</td>\n",
       "      <td>DL</td>\n",
       "      <td>N807DN</td>\n",
       "      <td>1779</td>\n",
       "      <td>MSP</td>\n",
       "      <td>DEN</td>\n",
       "      <td>1970-01-01 00:00:00.000001151</td>\n",
       "      <td>1970-01-01 00:00:00.000001304</td>\n",
       "      <td>680</td>\n",
       "      <td>-1.0</td>\n",
       "    </tr>\n",
       "  </tbody>\n",
       "</table>\n",
       "</div>"
      ],
      "text/plain": [
       "     FL_DATE OP_CARRIER TAIL_NUM OP_CARRIER_FL_NUM ORIGIN DEST  \\\n",
       "0 2019-07-09         ZW   N454AW              3791    AZO  ORD   \n",
       "1 2019-07-11         C5   N12195              4895    EWR  ROC   \n",
       "2 2019-07-23         DL   N841DN              1926    ATL  MCI   \n",
       "3 2019-07-08         B6   N981JT              1078    LAS  BOS   \n",
       "4 2019-07-28         DL   N807DN              1779    MSP  DEN   \n",
       "\n",
       "                   CRS_DEP_TIME                  CRS_ARR_TIME  DISTANCE  \\\n",
       "0 1970-01-01 00:00:00.000001426 1970-01-01 00:00:00.000001432       122   \n",
       "1 1970-01-01 00:00:00.000001255 1970-01-01 00:00:00.000001414       246   \n",
       "2 1970-01-01 00:00:00.000002148 1970-01-01 00:00:00.000002256       692   \n",
       "3 1970-01-01 00:00:00.000000700 1970-01-01 00:00:00.000001511      2381   \n",
       "4 1970-01-01 00:00:00.000001151 1970-01-01 00:00:00.000001304       680   \n",
       "\n",
       "  ARR_DELAY_GROUP  \n",
       "0            -1.0  \n",
       "1             0.0  \n",
       "2             0.0  \n",
       "3            -1.0  \n",
       "4            -1.0  "
      ]
     },
     "execution_count": 352,
     "metadata": {},
     "output_type": "execute_result"
    }
   ],
   "source": [
    "flight_data1 = flight_data.copy()\n",
    "\n",
    "flight_data1.head()"
   ]
  },
  {
   "cell_type": "code",
   "execution_count": 357,
   "metadata": {
    "scrolled": true
   },
   "outputs": [
    {
     "data": {
      "text/html": [
       "<div>\n",
       "<style scoped>\n",
       "    .dataframe tbody tr th:only-of-type {\n",
       "        vertical-align: middle;\n",
       "    }\n",
       "\n",
       "    .dataframe tbody tr th {\n",
       "        vertical-align: top;\n",
       "    }\n",
       "\n",
       "    .dataframe thead th {\n",
       "        text-align: right;\n",
       "    }\n",
       "</style>\n",
       "<table border=\"1\" class=\"dataframe\">\n",
       "  <thead>\n",
       "    <tr style=\"text-align: right;\">\n",
       "      <th></th>\n",
       "      <th>DISTANCE</th>\n",
       "    </tr>\n",
       "  </thead>\n",
       "  <tbody>\n",
       "    <tr>\n",
       "      <th>0</th>\n",
       "      <td>122</td>\n",
       "    </tr>\n",
       "    <tr>\n",
       "      <th>1</th>\n",
       "      <td>246</td>\n",
       "    </tr>\n",
       "    <tr>\n",
       "      <th>2</th>\n",
       "      <td>692</td>\n",
       "    </tr>\n",
       "    <tr>\n",
       "      <th>3</th>\n",
       "      <td>2381</td>\n",
       "    </tr>\n",
       "    <tr>\n",
       "      <th>4</th>\n",
       "      <td>680</td>\n",
       "    </tr>\n",
       "    <tr>\n",
       "      <th>...</th>\n",
       "      <td>...</td>\n",
       "    </tr>\n",
       "    <tr>\n",
       "      <th>172189</th>\n",
       "      <td>2475</td>\n",
       "    </tr>\n",
       "    <tr>\n",
       "      <th>172190</th>\n",
       "      <td>460</td>\n",
       "    </tr>\n",
       "    <tr>\n",
       "      <th>172191</th>\n",
       "      <td>2677</td>\n",
       "    </tr>\n",
       "    <tr>\n",
       "      <th>172192</th>\n",
       "      <td>139</td>\n",
       "    </tr>\n",
       "    <tr>\n",
       "      <th>172193</th>\n",
       "      <td>931</td>\n",
       "    </tr>\n",
       "  </tbody>\n",
       "</table>\n",
       "<p>169318 rows × 1 columns</p>\n",
       "</div>"
      ],
      "text/plain": [
       "        DISTANCE\n",
       "0            122\n",
       "1            246\n",
       "2            692\n",
       "3           2381\n",
       "4            680\n",
       "...          ...\n",
       "172189      2475\n",
       "172190       460\n",
       "172191      2677\n",
       "172192       139\n",
       "172193       931\n",
       "\n",
       "[169318 rows x 1 columns]"
      ]
     },
     "execution_count": 357,
     "metadata": {},
     "output_type": "execute_result"
    }
   ],
   "source": [
    "num_col=pd.DataFrame(flight_data1[\"DISTANCE\"])\n",
    "num_col"
   ]
  },
  {
   "cell_type": "code",
   "execution_count": 360,
   "metadata": {},
   "outputs": [
    {
     "data": {
      "text/html": [
       "<div>\n",
       "<style scoped>\n",
       "    .dataframe tbody tr th:only-of-type {\n",
       "        vertical-align: middle;\n",
       "    }\n",
       "\n",
       "    .dataframe tbody tr th {\n",
       "        vertical-align: top;\n",
       "    }\n",
       "\n",
       "    .dataframe thead th {\n",
       "        text-align: right;\n",
       "    }\n",
       "</style>\n",
       "<table border=\"1\" class=\"dataframe\">\n",
       "  <thead>\n",
       "    <tr style=\"text-align: right;\">\n",
       "      <th></th>\n",
       "      <th>FL_DATE</th>\n",
       "      <th>OP_CARRIER</th>\n",
       "      <th>TAIL_NUM</th>\n",
       "      <th>OP_CARRIER_FL_NUM</th>\n",
       "      <th>ORIGIN</th>\n",
       "      <th>DEST</th>\n",
       "      <th>CRS_DEP_TIME</th>\n",
       "      <th>CRS_ARR_TIME</th>\n",
       "      <th>DISTANCE</th>\n",
       "      <th>ARR_DELAY_GROUP</th>\n",
       "    </tr>\n",
       "  </thead>\n",
       "  <tbody>\n",
       "    <tr>\n",
       "      <th>0</th>\n",
       "      <td>2019-07-09</td>\n",
       "      <td>ZW</td>\n",
       "      <td>N454AW</td>\n",
       "      <td>3791</td>\n",
       "      <td>AZO</td>\n",
       "      <td>ORD</td>\n",
       "      <td>1970-01-01 00:00:00.000001426</td>\n",
       "      <td>1970-01-01 00:00:00.000001432</td>\n",
       "      <td>-1.100328</td>\n",
       "      <td>-1.0</td>\n",
       "    </tr>\n",
       "    <tr>\n",
       "      <th>1</th>\n",
       "      <td>2019-07-11</td>\n",
       "      <td>C5</td>\n",
       "      <td>N12195</td>\n",
       "      <td>4895</td>\n",
       "      <td>EWR</td>\n",
       "      <td>ROC</td>\n",
       "      <td>1970-01-01 00:00:00.000001255</td>\n",
       "      <td>1970-01-01 00:00:00.000001414</td>\n",
       "      <td>-0.889004</td>\n",
       "      <td>0.0</td>\n",
       "    </tr>\n",
       "    <tr>\n",
       "      <th>2</th>\n",
       "      <td>2019-07-23</td>\n",
       "      <td>DL</td>\n",
       "      <td>N841DN</td>\n",
       "      <td>1926</td>\n",
       "      <td>ATL</td>\n",
       "      <td>MCI</td>\n",
       "      <td>1970-01-01 00:00:00.000002148</td>\n",
       "      <td>1970-01-01 00:00:00.000002256</td>\n",
       "      <td>-0.128919</td>\n",
       "      <td>0.0</td>\n",
       "    </tr>\n",
       "    <tr>\n",
       "      <th>3</th>\n",
       "      <td>2019-07-08</td>\n",
       "      <td>B6</td>\n",
       "      <td>N981JT</td>\n",
       "      <td>1078</td>\n",
       "      <td>LAS</td>\n",
       "      <td>BOS</td>\n",
       "      <td>1970-01-01 00:00:00.000000700</td>\n",
       "      <td>1970-01-01 00:00:00.000001511</td>\n",
       "      <td>2.749518</td>\n",
       "      <td>-1.0</td>\n",
       "    </tr>\n",
       "    <tr>\n",
       "      <th>4</th>\n",
       "      <td>2019-07-28</td>\n",
       "      <td>DL</td>\n",
       "      <td>N807DN</td>\n",
       "      <td>1779</td>\n",
       "      <td>MSP</td>\n",
       "      <td>DEN</td>\n",
       "      <td>1970-01-01 00:00:00.000001151</td>\n",
       "      <td>1970-01-01 00:00:00.000001304</td>\n",
       "      <td>-0.149370</td>\n",
       "      <td>-1.0</td>\n",
       "    </tr>\n",
       "  </tbody>\n",
       "</table>\n",
       "</div>"
      ],
      "text/plain": [
       "     FL_DATE OP_CARRIER TAIL_NUM OP_CARRIER_FL_NUM ORIGIN DEST  \\\n",
       "0 2019-07-09         ZW   N454AW              3791    AZO  ORD   \n",
       "1 2019-07-11         C5   N12195              4895    EWR  ROC   \n",
       "2 2019-07-23         DL   N841DN              1926    ATL  MCI   \n",
       "3 2019-07-08         B6   N981JT              1078    LAS  BOS   \n",
       "4 2019-07-28         DL   N807DN              1779    MSP  DEN   \n",
       "\n",
       "                   CRS_DEP_TIME                  CRS_ARR_TIME  DISTANCE  \\\n",
       "0 1970-01-01 00:00:00.000001426 1970-01-01 00:00:00.000001432 -1.100328   \n",
       "1 1970-01-01 00:00:00.000001255 1970-01-01 00:00:00.000001414 -0.889004   \n",
       "2 1970-01-01 00:00:00.000002148 1970-01-01 00:00:00.000002256 -0.128919   \n",
       "3 1970-01-01 00:00:00.000000700 1970-01-01 00:00:00.000001511  2.749518   \n",
       "4 1970-01-01 00:00:00.000001151 1970-01-01 00:00:00.000001304 -0.149370   \n",
       "\n",
       "  ARR_DELAY_GROUP  \n",
       "0            -1.0  \n",
       "1             0.0  \n",
       "2             0.0  \n",
       "3            -1.0  \n",
       "4            -1.0  "
      ]
     },
     "execution_count": 360,
     "metadata": {},
     "output_type": "execute_result"
    }
   ],
   "source": [
    "from sklearn.preprocessing import StandardScaler\n",
    "s=StandardScaler()\n",
    "\n",
    "flight_data[\"DISTANCE\"]=s.fit_transform(num_col)\n",
    "flight_data.head()"
   ]
  },
  {
   "cell_type": "code",
   "execution_count": null,
   "metadata": {},
   "outputs": [],
   "source": [
    "flight_data.groupby([\"OP_CARRIER\",\"ARR_DELAY_GROUP\"]).plot(kind=\"bar\")"
   ]
  }
 ],
 "metadata": {
  "kernelspec": {
   "display_name": "Python 3",
   "language": "python",
   "name": "python3"
  },
  "language_info": {
   "codemirror_mode": {
    "name": "ipython",
    "version": 3
   },
   "file_extension": ".py",
   "mimetype": "text/x-python",
   "name": "python",
   "nbconvert_exporter": "python",
   "pygments_lexer": "ipython3",
   "version": "3.6.5"
  }
 },
 "nbformat": 4,
 "nbformat_minor": 2
}
